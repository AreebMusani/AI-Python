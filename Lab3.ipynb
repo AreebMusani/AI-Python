{
 "cells": [
  {
   "cell_type": "markdown",
   "id": "559c0ec7",
   "metadata": {},
   "source": [
    "# TASK # 01 \n",
    "\n",
    "Class Employee\n",
    "Employee: Parameterized constructor.\n",
    "getter & setter: Create the get and set method to each attribute.\n",
    "display: Displays Employee ID and Name in the following format:\n",
    "ID: 1234 – Name: XYZ - Salary: 70000.00\n",
    "\n",
    "Class Faculty\n",
    "Faculty: Parameterized constructor.\n",
    "getter & setter: Create the get and set method to each attribute.\n",
    "display: Shows the Faculty information in the following format:\n",
    "ID: 1234 – Name: XYZ – Degree: PhD - Salary: 70000.00\n",
    "salary: Calculate salary based on the following formula :\n",
    "Salary= basicSalary + teachingHours * 1000\n",
    "Class Staff\n",
    "\n",
    "Staff: Parameterized constructor.\n",
    "getter & setter: Create the get and set method to each attribute.\n",
    "display: Shows the Staff information in the following format:\n",
    "ID: 1234 – Name: XYZ – JobTitle: Registrar –Salary: 70000.00\n",
    "\n",
    "salary: Calculate salary based on the following formula:\n",
    "        Salary= basicSalary\n",
    "        Unless workingHours > 8, Then\n",
    "            Salary=basicSalary + (basicSalary *25 /100 )\n",
    "            \n",
    "Once you are done implementing the classes, you need to test your work using the class\n",
    "with main method to do the following:\n",
    "• Create an instance of class Employee, an instance of class Faculty and an instance\n",
    "of class Staff with proper values for the attributes.\n",
    "• Display the information for each instance using display() method.\n",
    "• Show the salary for Faculty and Staff."
   ]
  },
  {
   "cell_type": "code",
   "execution_count": 61,
   "id": "0c33426e",
   "metadata": {},
   "outputs": [],
   "source": [
    "class Employee:\n",
    "    def __init__(self, Id, name, basicSalary):\n",
    "        self.Id = Id\n",
    "        self.name = name\n",
    "        self.basicSalary = basicSalary\n",
    "    \n",
    "    def get_salary(self):\n",
    "        return self.basicSalary\n",
    "    \n",
    "    def set_salary(self, salary):\n",
    "        self.basicSalary = salary\n",
    "        \n",
    "    def salary(self):\n",
    "        return self.get_salary()\n",
    "        \n",
    "    def display(self):\n",
    "        print(\"ID: \", self.Id , \", Name: \", self.name, \", Salary: \", self.salary())\n",
    "        \n",
    "class Faculty(Employee):\n",
    "    def __init__(self, Id, name, basicSalary, degree, teachingHours):\n",
    "        self.Id = Id\n",
    "        self.name = name\n",
    "        self.basicSalary = basicSalary\n",
    "        self.degree = degree\n",
    "        self.teachingHours = teachingHours\n",
    "    \n",
    "    def get_salary(self):\n",
    "        return self.basicSalary\n",
    "    \n",
    "    def set_salary(self, salary):\n",
    "        self.basicSalary = salary\n",
    "    \n",
    "    def salary(self):\n",
    "        return self.get_salary() + (self.teachingHours * 1000)\n",
    "    \n",
    "    def display(self):\n",
    "        print(\"ID: \", self.Id , \", Name: \", self.name, \", Degree: \", self.degree, \", Salary: \", self.salary())    \n",
    "\n",
    "class Staff(Employee):\n",
    "    def __init__(self, Id, name, basicSalary, jobTitle, workingHours):\n",
    "        self.Id = Id\n",
    "        self.name = name\n",
    "        self.basicSalary = basicSalary\n",
    "        self.jobTitle = jobTitle\n",
    "        self.workingHours = workingHours\n",
    "    \n",
    "    def get_salary(self):\n",
    "        return self.basicSalary\n",
    "    \n",
    "    def set_salary(self, salary):\n",
    "        self.basicSalary = salary\n",
    "    \n",
    "    def salary(self):\n",
    "        if self.workingHours > 8:\n",
    "            return self.get_salary() + (self.get_salary() * (25 / 100))\n",
    "        else:\n",
    "            return self.get_salary()\n",
    "    \n",
    "    def display(self):\n",
    "        print(\"ID: \", self.Id , \", Name: \", self.name, \", jobTitle: \", self.jobTitle, \", Salary: \", self.salary())    "
   ]
  },
  {
   "cell_type": "code",
   "execution_count": 3,
   "id": "01a5af71",
   "metadata": {},
   "outputs": [
    {
     "name": "stdout",
     "output_type": "stream",
     "text": [
      "ID:  43221 , Name:  Ali , Salary:  70000.0\n",
      "ID:  71245 , Name:  Majid , Degree:  PHD , Salary:  100000.0\n",
      "ID:  81234 , Name:  Naseer , jobTitle:  Registrar , Salary:  112500.0\n"
     ]
    }
   ],
   "source": [
    "emp1 = Employee(43221, \"Ali\", 70000.0)\n",
    "emp1.display()\n",
    "\n",
    "Fac1 = Faculty(71245, \"Majid\", 85000.0, \"PHD\", 15)\n",
    "Fac1.display()\n",
    "\n",
    "Staff1 = Staff(81234, \"Naseer\", 90000.0, \"Registrar\", 10)\n",
    "Staff1.display()"
   ]
  },
  {
   "cell_type": "code",
   "execution_count": null,
   "id": "fa83314d",
   "metadata": {},
   "outputs": [],
   "source": []
  }
 ],
 "metadata": {
  "kernelspec": {
   "display_name": "Python 3 (ipykernel)",
   "language": "python",
   "name": "python3"
  },
  "language_info": {
   "codemirror_mode": {
    "name": "ipython",
    "version": 3
   },
   "file_extension": ".py",
   "mimetype": "text/x-python",
   "name": "python",
   "nbconvert_exporter": "python",
   "pygments_lexer": "ipython3",
   "version": "3.9.13"
  }
 },
 "nbformat": 4,
 "nbformat_minor": 5
}
