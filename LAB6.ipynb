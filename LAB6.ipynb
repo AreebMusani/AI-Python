{
 "cells": [
  {
   "cell_type": "markdown",
   "id": "085a8ae5",
   "metadata": {},
   "source": [
    "# ACTIVITY # 1"
   ]
  },
  {
   "cell_type": "code",
   "execution_count": 26,
   "id": "e071c344",
   "metadata": {},
   "outputs": [
    {
     "name": "stdout",
     "output_type": "stream",
     "text": [
      "Shortest Path: ['S', 'A', 'G']\n",
      "Total Cost: 4\n"
     ]
    }
   ],
   "source": [
    "import heapq\n",
    "\n",
    "# Define the state graph as a dictionary of dictionaries\n",
    "graph = {\n",
    "    'S': {'A': 2, 'B': 2},\n",
    "    'A': {'G': 2},\n",
    "    'B': {'G': 3},\n",
    "}\n",
    "\n",
    "# Define the heuristic function as the straight-line distance to the goal\n",
    "heuristic = {\n",
    "    'S': 3,\n",
    "    'A': 2,\n",
    "    'B': 1,\n",
    "    'G': 0\n",
    "}\n",
    "\n",
    "def a_star_search(start, goal, graph, heuristic):\n",
    "    pq = []  # min-priority queue\n",
    "    closed = set()\n",
    "    \n",
    "    g = {start: 0}\n",
    "    f = {start: heuristic[start]}\n",
    "    path = {start: []}\n",
    "    heapq.heappush(pq, (f[start], start))\n",
    "    \n",
    "    while pq:\n",
    "        (f_curr, curr) = heapq.heappop(pq)\n",
    "        if curr == goal:\n",
    "            return f[curr], [start] + path[curr]\n",
    "        closed.add(curr)\n",
    "        for next, cost in graph[curr].items():\n",
    "            if next not in closed:\n",
    "                g_next = g[curr] + cost\n",
    "                if next not in f or g_next + heuristic[next] < f[next]:\n",
    "                    g[next] = g_next\n",
    "                    f[next] = g_next + heuristic[next]\n",
    "                    path[next] = path[curr] + [next]\n",
    "                    heapq.heappush(pq, (f[next], next))\n",
    "      \n",
    "        \n",
    "\n",
    "f, path = a_star_search('S', 'G', graph,heuristic)\n",
    "\n",
    "# Print the results\n",
    "print('Shortest Path:', path)\n",
    "print('Total Cost:', f)"
   ]
  },
  {
   "cell_type": "markdown",
   "id": "8382f541",
   "metadata": {},
   "source": [
    "# ACTIVITY # 2"
   ]
  },
  {
   "cell_type": "code",
   "execution_count": 32,
   "id": "1896ddda",
   "metadata": {},
   "outputs": [
    {
     "name": "stdout",
     "output_type": "stream",
     "text": [
      "Shortest Path: ['S', 'B', 'D']\n",
      "Total Cost: 5\n"
     ]
    }
   ],
   "source": [
    "import heapq\n",
    "\n",
    "# Define the state graph as a dictionary of dictionaries\n",
    "graph = {\n",
    "    'S': {'A': 3, 'B': 2},\n",
    "    'A': {'B': 3, 'D': 3, 'C': 1},\n",
    "    'B': {'C': 5, 'D': 3},\n",
    "    'C': {'D': 2},\n",
    "    'D': {}\n",
    "}\n",
    "\n",
    "# Define the heuristic function as the straight-line distance to the goal\n",
    "heuristic = {\n",
    "    'S': 3,\n",
    "    'A': 2,\n",
    "    'B': 1,\n",
    "    'C': 0,\n",
    "    'D': 0\n",
    "}\n",
    "\n",
    "def a_star_search(start, goal, graph, heuristic):\n",
    "    pq = []  # min-priority queue\n",
    "    closed = set()\n",
    "    \n",
    "    g = {start: 0}\n",
    "    f = {start: heuristic[start]}\n",
    "    path = {start: []}\n",
    "    heapq.heappush(pq, (f[start], start))\n",
    "    \n",
    "    while pq:\n",
    "        (f_curr, curr) = heapq.heappop(pq)\n",
    "        if curr == goal:\n",
    "            return f[curr], [start] + path[curr]\n",
    "        closed.add(curr)\n",
    "        for next, cost in graph[curr].items():\n",
    "            if next not in closed:\n",
    "                g_next = g[curr] + cost\n",
    "                if next not in f or g_next + heuristic[next] < f[next]:\n",
    "                    g[next] = g_next\n",
    "                    f[next] = g_next + heuristic[next]\n",
    "                    path[next] = path[curr] + [next]\n",
    "                    heapq.heappush(pq, (f[next], next))\n",
    "      \n",
    "        \n",
    "\n",
    "f, path = a_star_search('S', 'D', graph,heuristic)\n",
    "\n",
    "# Print the results\n",
    "print('Shortest Path:', path)\n",
    "print('Total Cost:', f)"
   ]
  },
  {
   "cell_type": "markdown",
   "id": "fddf69ea",
   "metadata": {},
   "source": [
    "# ACTIVITY # 4"
   ]
  },
  {
   "cell_type": "code",
   "execution_count": 25,
   "id": "82fb2e14",
   "metadata": {},
   "outputs": [
    {
     "name": "stdout",
     "output_type": "stream",
     "text": [
      "Shortest Path: ['ar', 'si', 'rim', 'plte', 'buc']\n",
      "Total Cost: 418\n"
     ]
    }
   ],
   "source": [
    "import heapq\n",
    "\n",
    "graph = {\n",
    "    'or': {'si': 151, 'ze': 71},\n",
    "    'ze': {'ar': 75},\n",
    "    'ar': {'si': 140, 'tim': 118},\n",
    "    'tim': {'luh': 111},\n",
    "    'lug': {'meh': 70},\n",
    "    'meh': {'dob': 75},\n",
    "    'dob': {'cral': 120},\n",
    "    'si': {'rim': 80, 'fag': 90},\n",
    "    'rim': {'cral': 148,'plte': 97},\n",
    "    'fag': {'buc': 211},\n",
    "    'plte': {'buc': 101},\n",
    "    'cral': {'plte': 138},\n",
    "    'buc': {'giu ': 90,'uiz': 85},\n",
    "    'nea': {'asi': 87},\n",
    "    'asi': {'vas': 92},\n",
    "    'vas': {'uiz': 42},\n",
    "    'uiz': {'hir': 98},\n",
    "    'hir': {'efo': 86},\n",
    "    'efo': {}\n",
    "\n",
    "}\n",
    "\n",
    "heuristic = {\n",
    "   'or': 380,\n",
    "    'ze': 374,\n",
    "    'ar': 366,\n",
    "    'tim': 329,\n",
    "    'lug': 244,\n",
    "    'meh': 241,\n",
    "    'dob': 242,\n",
    "    'si': 253,\n",
    "    'rim': 193,\n",
    "    'fag': 176,\n",
    "    'plte': 0,\n",
    "    'cral': 160,\n",
    "    'buc': 0,\n",
    "    'giu':77,\n",
    "    'nea': 234,\n",
    "    'asi': 226,\n",
    "    'vas': 199,\n",
    "    'uiz': 80,\n",
    "    'hir': 151,\n",
    "    'efo': 161\n",
    "\n",
    "}\n",
    "\n",
    "def a_star_search(start, goal, graph, heuristic):\n",
    "    pq = []  # min-priority queue\n",
    "    closed = set()\n",
    "    \n",
    "    g = {start: 0}\n",
    "    f = {start: heuristic[start]}\n",
    "    path = {start: []}\n",
    "    heapq.heappush(pq, (f[start], start))\n",
    "    \n",
    "    while pq:\n",
    "        (f_curr, curr) = heapq.heappop(pq)\n",
    "        if curr == goal:\n",
    "            return f[curr], [start] + path[curr]\n",
    "        closed.add(curr)\n",
    "        for next, cost in graph[curr].items():\n",
    "            if next not in closed:\n",
    "                g_next = g[curr] + cost\n",
    "                if next not in f or g_next + heuristic[next] < f[next]:\n",
    "                    g[next] = g_next\n",
    "                    f[next] = g_next + heuristic[next]\n",
    "                    path[next] = path[curr] + [next]\n",
    "                    heapq.heappush(pq, (f[next], next))\n",
    "      \n",
    "        \n",
    "\n",
    "f, path = a_star_search('ar','buc' ,graph,heuristic)\n",
    "\n",
    "# Print the results\n",
    "print('Shortest Path:', path)\n",
    "print('Total Cost:', f)"
   ]
  }
 ],
 "metadata": {
  "kernelspec": {
   "display_name": "Python 3 (ipykernel)",
   "language": "python",
   "name": "python3"
  },
  "language_info": {
   "codemirror_mode": {
    "name": "ipython",
    "version": 3
   },
   "file_extension": ".py",
   "mimetype": "text/x-python",
   "name": "python",
   "nbconvert_exporter": "python",
   "pygments_lexer": "ipython3",
   "version": "3.9.13"
  }
 },
 "nbformat": 4,
 "nbformat_minor": 5
}
