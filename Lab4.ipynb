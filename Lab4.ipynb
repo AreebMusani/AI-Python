{
 "cells": [
  {
   "cell_type": "markdown",
   "id": "b004603c",
   "metadata": {},
   "source": [
    "# Task Number 1\n",
    "\n",
    "In contrast to the standard FIFO implementation of Queue, the LifoQueue uses last-in, first-\n",
    "out ordering (normally associated with a stack data structure). Implement LIFO queue using\n",
    "queue module."
   ]
  },
  {
   "cell_type": "code",
   "execution_count": 17,
   "id": "a761beda",
   "metadata": {},
   "outputs": [
    {
     "name": "stdout",
     "output_type": "stream",
     "text": [
      "3\n",
      "10\n",
      "8\n",
      "5\n",
      "2\n"
     ]
    }
   ],
   "source": [
    "import queue as q1\n",
    "\n",
    "array = [2, 5, 8, 10, 3]\n",
    "list1 = q1.LifoQueue(maxsize = 5)\n",
    "for i in range(0,5):\n",
    "    list1.put(array[i])\n",
    "\n",
    "for i in range(0,5):\n",
    "    print(list1.get())"
   ]
  },
  {
   "cell_type": "markdown",
   "id": "68edbb5e",
   "metadata": {},
   "source": [
    "# Task Number 2\n",
    "\n",
    "We have an array of 5 elements: [4, 8, 1, 7, 3] and we have to insert all the elements in the\n",
    "max-priority queue. First as the priority queue is empty, so 4 will be inserted initially. Now\n",
    "when 8 will be inserted it will move to front as 8 is greater than 4. While inserting 1, as it is\n",
    "the current minimum element in the priority queue, it will remain in the back of priority queue.\n",
    "Now 7 will be inserted between 8 and 4 as 7 is smaller than 8. Now 3 will be inserted before\n",
    "1 as it is the 2nd minimum element in the priority queue. All the steps are represented in the\n",
    "diagram below:"
   ]
  },
  {
   "cell_type": "code",
   "execution_count": 3,
   "id": "33bcc3b4",
   "metadata": {},
   "outputs": [
    {
     "name": "stdout",
     "output_type": "stream",
     "text": [
      "INITIAL LIST: 4  8  1  7  3  \n",
      "MAX PRIORITY: 8  7  4  3  1  "
     ]
    }
   ],
   "source": [
    "import queue as q1\n",
    "\n",
    "array = [4, 8, 1, 7, 3]\n",
    "list1 = q1.PriorityQueue(maxsize = 5)\n",
    "\n",
    "print(\"INITIAL LIST: \", end=\"\")\n",
    "for i in range(0,5):\n",
    "    print(array[i] , \" \", end=\"\")\n",
    "    list1.put(array[i])\n",
    "\n",
    "lifo = q1.LifoQueue(maxsize = 5)\n",
    "for i in range(0,5):\n",
    "    lifo.put(list1.get())\n",
    "\n",
    "print(\"\\nMAX PRIORITY: \", end=\"\")\n",
    "for i in range(0,5):\n",
    "    print(lifo.get(), \" \", end=\"\")"
   ]
  },
  {
   "cell_type": "markdown",
   "id": "1732eb07",
   "metadata": {},
   "source": [
    "# Task Number 3\n",
    "\n",
    "Consider a simple priority queue implementation for scheduling the presentations of students\n",
    "based on their roll number. Here roll number decides the priority of the student to present.\n",
    "Since it is a min-heap, roll number 1 is considered to be of the highest priority."
   ]
  },
  {
   "cell_type": "code",
   "execution_count": 35,
   "id": "5a65f504",
   "metadata": {},
   "outputs": [
    {
     "name": "stdout",
     "output_type": "stream",
     "text": [
      "Roll No: 1, Student Name: Hamza\n",
      "Roll No: 2, Student Name: Umer\n",
      "Roll No: 3, Student Name: Areeb\n"
     ]
    }
   ],
   "source": [
    "import heapq\n",
    "\n",
    "hp = []\n",
    "heapq.heappush(hp, (3, \"Areeb\"))\n",
    "heapq.heappush(hp, (1, \"Hamza\"))\n",
    "heapq.heappush(hp, (2, \"Umer\"))\n",
    "\n",
    "while hp:\n",
    "    roll, std = heapq.heappop(hp)\n",
    "    print(f\"Roll No: {roll}, Student Name: {std}\")"
   ]
  }
 ],
 "metadata": {
  "kernelspec": {
   "display_name": "Python 3 (ipykernel)",
   "language": "python",
   "name": "python3"
  },
  "language_info": {
   "codemirror_mode": {
    "name": "ipython",
    "version": 3
   },
   "file_extension": ".py",
   "mimetype": "text/x-python",
   "name": "python",
   "nbconvert_exporter": "python",
   "pygments_lexer": "ipython3",
   "version": "3.9.13"
  }
 },
 "nbformat": 4,
 "nbformat_minor": 5
}
