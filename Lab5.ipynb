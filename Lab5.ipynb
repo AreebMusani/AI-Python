{
 "cells": [
  {
   "cell_type": "markdown",
   "id": "fc590c34",
   "metadata": {},
   "source": [
    "## ACTIVITY 01\n",
    "\n",
    "Consider the following graph. If there is ever a decision between multiple neighbor nodes in the\n",
    "BFS algorithm, assume we always choose the letter closest to the beginning of the alphabet first.\n",
    "A connected graph with 7 nodes and 7 edges. The edges are undirected and unweight. Distance\n",
    "between two nodes will be measured based on the number of edges separating two vertices.\n",
    "Represent a graph with adjacency list using dictionaries. The keys of the dictionary represent\n",
    "nodes; the values have a list of neighbors\n",
    "\n",
    "Define function name  ̳connected_component‘, this function keep track of all the visited nodes\n",
    "with BFS, is as simple as implementing the steps of the algorithm and assign  ̳queue‘ variable\n",
    "already has a node to be checked, i.e., the starting vertex that is used as an entry point to explore\n",
    "the graph. The next step is to implement a loop that keeps cycling until queue is empty. At each\n",
    "iteration of the loop, a node is checked. If this wasn‘t visited already, its neighbors are added to\n",
    "queue. Once the loop is exited, the function (connected_component) returns all of the visited\n",
    "nodes."
   ]
  },
  {
   "cell_type": "code",
   "execution_count": 5,
   "id": "922e13c0",
   "metadata": {},
   "outputs": [
    {
     "name": "stdout",
     "output_type": "stream",
     "text": [
      "0 3 1 4 2 5 6 "
     ]
    }
   ],
   "source": [
    "import queue\n",
    "\n",
    "graph = {\n",
    "    '0' : ['3', '1'],\n",
    "    '3' : ['4', '2', '1'],\n",
    "    '1' : ['3', '2', '5'],\n",
    "    '2' : ['4', '5'],\n",
    "    '4' : ['2', '6'],\n",
    "    '6' : ['4', '1'],\n",
    "    '5' : []\n",
    "}\n",
    "visited = []\n",
    "queue = []\n",
    "def connected_component(visited, graph, node):\n",
    "    visited.append(node)\n",
    "    queue.append(node)\n",
    "    \n",
    "    while queue:\n",
    "        s = queue.pop(0)\n",
    "        print(s, end = ' ')\n",
    "        for neighbour in graph[s]:\n",
    "            if neighbour not in visited:\n",
    "                visited.append(neighbour)\n",
    "                queue.append(neighbour)\n",
    "                \n",
    "connected_component(visited, graph, '0')"
   ]
  },
  {
   "cell_type": "markdown",
   "id": "2dbd507a",
   "metadata": {},
   "source": [
    "## ACTIVITY 02\n",
    "\n",
    "Apply Breadth First Search on following graph considering the initial state is 1 and final state is\n",
    "10. Show results in form of open and closed list. Also evaluate it manually.\n"
   ]
  },
  {
   "cell_type": "code",
   "execution_count": 22,
   "id": "8a33979f",
   "metadata": {},
   "outputs": [
    {
     "name": "stdout",
     "output_type": "stream",
     "text": [
      "Open List\t\t\t\tClose List\n",
      "['1'] \t\t\t\t\t []\n",
      "['2', '3'] \t\t\t ['1']\n",
      "['3', '4', '5'] \t\t\t ['1', '2']\n",
      "['4', '5', '6', '7'] \t\t\t ['1', '2', '3']\n",
      "['5', '6', '7'] \t\t\t ['1', '2', '3', '4']\n",
      "['6', '7', '8', '9'] \t\t\t ['1', '2', '3', '4', '5']\n",
      "['7', '8', '9'] \t\t\t ['1', '2', '3', '4', '5', '6']\n",
      "['8', '9', '10'] \t\t\t ['1', '2', '3', '4', '5', '6', '7']\n",
      "['9', '10'] \t\t\t ['1', '2', '3', '4', '5', '6', '7', '8']\n",
      "['10'] \t\t\t ['1', '2', '3', '4', '5', '6', '7', '8', '9']\n",
      "[] \t\t\t\t\t ['1', '2', '3', '4', '5', '6', '7', '8', '9', '10']\n"
     ]
    }
   ],
   "source": [
    "import queue\n",
    "\n",
    "graph = {\n",
    "    '1': ['2', '3'],'2': ['4', '5'],'3': ['6', '7'],'5': ['8', '9'],\n",
    "    '7': ['10'],'4': [],'6': [],'8': [],'9': [],'10': []}\n",
    "\n",
    "openList = queue.Queue()\n",
    "initial = '1'\n",
    "final = '10'\n",
    "openList.put(initial)\n",
    "closeList = []\n",
    "\n",
    "print(\"Open List\\t\\t\\t\\tClose List\")\n",
    "print(list(openList.queue), \"\\t\\t\\t\\t\\t\", closeList)\n",
    "while not openList.empty():\n",
    "    s = openList.get()\n",
    "    closeList.append(s)\n",
    "    if s == final:\n",
    "        print(list(openList.queue), \"\\t\\t\\t\\t\\t\", closeList)\n",
    "        break\n",
    "        \n",
    "    m = graph[s]\n",
    "    for n in m:\n",
    "        if closeList.count(n) <= 0 and list(openList.queue).count(n) <= 0:\n",
    "            openList.put(n)\n",
    "    print(list(openList.queue), \"\\t\\t\\t\", closeList)"
   ]
  },
  {
   "cell_type": "markdown",
   "id": "7170fd37",
   "metadata": {},
   "source": [
    "# ACTIVITY 03\n",
    "\n",
    "\n",
    "Repeat Activity-2, apply BFS by taking initial and final state as user input. Show results in form\n",
    "of open and closed list. Also evaluate it manually."
   ]
  },
  {
   "cell_type": "code",
   "execution_count": 3,
   "id": "cd77202b",
   "metadata": {},
   "outputs": [
    {
     "name": "stdout",
     "output_type": "stream",
     "text": [
      "Enter initail State: 1\n",
      "Enter Final State: 6\n",
      "Open List\t\t\t\tClose List\n",
      "['1'] \t\t\t\t\t []\n",
      "['2', '3'] \t\t\t ['1']\n",
      "['3', '4', '5'] \t\t\t ['1', '2']\n",
      "['4', '5', '6', '7'] \t\t\t ['1', '2', '3']\n",
      "['5', '6', '7'] \t\t\t ['1', '2', '3', '4']\n",
      "['6', '7', '8', '9'] \t\t\t ['1', '2', '3', '4', '5']\n",
      "['7', '8', '9'] \t\t\t\t\t ['1', '2', '3', '4', '5', '6']\n"
     ]
    }
   ],
   "source": [
    "import queue\n",
    "\n",
    "graph = {\n",
    "    '1': ['2', '3'],'2': ['4', '5'],'3': ['6', '7'],'5': ['8', '9'],\n",
    "    '7': ['10'],'4': [],'6': [],'8': [],'9': [],'10': []}\n",
    "\n",
    "openList = queue.Queue()\n",
    "initial = input(\"Enter initail State: \")\n",
    "final = input(\"Enter Final State: \")\n",
    "openList.put(initial)\n",
    "closeList = []\n",
    "\n",
    "print(\"Open List\\t\\t\\t\\tClose List\")\n",
    "print(list(openList.queue), \"\\t\\t\\t\\t\\t\", closeList)\n",
    "while not openList.empty():\n",
    "    s = openList.get()\n",
    "    closeList.append(s)\n",
    "    if s == final:\n",
    "        print(list(openList.queue), \"\\t\\t\\t\\t\\t\", closeList)\n",
    "        break\n",
    "        \n",
    "    m = graph[s]\n",
    "    for n in m:\n",
    "        if closeList.count(n) <= 0 and list(openList.queue).count(n) <= 0:\n",
    "            openList.put(n)\n",
    "    print(list(openList.queue), \"\\t\\t\\t\", closeList)"
   ]
  },
  {
   "cell_type": "markdown",
   "id": "cd9478b2",
   "metadata": {},
   "source": [
    "# ACTIVITY 04\n",
    "\n",
    "Apply Depth First Search on Activity-2 graph considering the initial state is 1 and final state is\n",
    "10. Show results in form of open and closed list. Also evaluate it manually."
   ]
  },
  {
   "cell_type": "code",
   "execution_count": 2,
   "id": "1dd9b7cb",
   "metadata": {},
   "outputs": [
    {
     "name": "stdout",
     "output_type": "stream",
     "text": [
      "OPEN LIST \t\t CLOSE LIST\n",
      "['2', '3']\t\t['1']\n",
      "['4', '5', '3']\t\t['1', '2']\n",
      "['5', '3']\t\t['1', '2', '4']\n",
      "['8', '9', '3']\t\t['1', '2', '4', '5']\n",
      "['9', '3']\t\t['1', '2', '4', '5', '8']\n",
      "['3']\t\t['1', '2', '4', '5', '8', '9']\n",
      "['6', '7']\t\t['1', '2', '4', '5', '8', '9', '3']\n",
      "['7']\t\t['1', '2', '4', '5', '8', '9', '3', '6']\n",
      "['10']\t\t['1', '2', '4', '5', '8', '9', '3', '6', '7']\n",
      "[]\t\t['1', '2', '4', '5', '8', '9', '3', '6', '7', '10']\n"
     ]
    }
   ],
   "source": [
    "import queue\n",
    "\n",
    "graph = {'1':['2','3'], '2':['4','5'], '3':['6','7'], '4':[],\n",
    "         '5':['8','9'], '6':[], '7':['10'], '8':[], '9':[], '10':[]}\n",
    "stack=queue.LifoQueue()\n",
    "initial='1'\n",
    "goal=\"10\"\n",
    "stack.put(initial)\n",
    "closedList=[]\n",
    "openList=[goal]\n",
    "print(\"OPEN LIST \\t\\t CLOSE LIST\")\n",
    "while not stack.empty():\n",
    "    node=stack.get()\n",
    "    openList.pop(0)\n",
    "    if node==goal:\n",
    "        print(openList,end=\"\\t\\t\")\n",
    "        closedList.append(node)\n",
    "        print(closedList)\n",
    "        break\n",
    "    items=graph[node]\n",
    "    items.reverse()\n",
    "    for item in items:\n",
    "        if openList.count(item) <=0 and closedList.count(item) <=0:\n",
    "            stack.put(item)\n",
    "            openList.insert(0,item)\n",
    "    closedList.append(node)\n",
    "    print(openList, end=\"\\t\\t\")\n",
    "    print(closedList)"
   ]
  },
  {
   "cell_type": "markdown",
   "id": "917336f6",
   "metadata": {},
   "source": [
    "# ACTIVITY 05\n",
    "\n",
    "Repeat Activity-4, apply DFS by taking initial and final state as user input. Show results in form\n",
    "of open and closed list. Also evaluate it manually"
   ]
  },
  {
   "cell_type": "code",
   "execution_count": 5,
   "id": "d98614e2",
   "metadata": {},
   "outputs": [
    {
     "name": "stdout",
     "output_type": "stream",
     "text": [
      "Enter initail State: 1\n",
      "Enter Goal State: 7\n",
      "OPEN LIST \t\t CLOSE LIST\n",
      "['2', '3']\t\t['1']\n",
      "['4', '5', '3']\t\t['1', '2']\n",
      "['5', '3']\t\t['1', '2', '4']\n",
      "['8', '9', '3']\t\t['1', '2', '4', '5']\n",
      "['9', '3']\t\t['1', '2', '4', '5', '8']\n",
      "['3']\t\t['1', '2', '4', '5', '8', '9']\n",
      "['6', '7']\t\t['1', '2', '4', '5', '8', '9', '3']\n",
      "['7']\t\t['1', '2', '4', '5', '8', '9', '3', '6']\n",
      "[]\t\t['1', '2', '4', '5', '8', '9', '3', '6', '7']\n"
     ]
    }
   ],
   "source": [
    "import queue\n",
    "\n",
    "graph = {'1':['2','3'], '2':['4','5'], '3':['6','7'], '4':[],\n",
    "         '5':['8','9'], '6':[], '7':['10'], '8':[], '9':[], '10':[]}\n",
    "stack=queue.LifoQueue()\n",
    "initial = input(\"Enter initail State: \")\n",
    "goal = input(\"Enter Goal State: \")\n",
    "stack.put(initial)\n",
    "closedList=[]\n",
    "openList=[goal]\n",
    "print(\"OPEN LIST \\t\\t CLOSE LIST\")\n",
    "while not stack.empty():\n",
    "    node=stack.get()\n",
    "    openList.pop(0)\n",
    "    if node==goal:\n",
    "        print(openList,end=\"\\t\\t\")\n",
    "        closedList.append(node)\n",
    "        print(closedList)\n",
    "        break\n",
    "    items=graph[node]\n",
    "    items.reverse()\n",
    "    for item in items:\n",
    "        if openList.count(item) <=0 and closedList.count(item) <=0:\n",
    "            stack.put(item)\n",
    "            openList.insert(0,item)\n",
    "    closedList.append(node)\n",
    "    print(openList, end=\"\\t\\t\")\n",
    "    print(closedList)"
   ]
  },
  {
   "cell_type": "markdown",
   "id": "cee36354",
   "metadata": {},
   "source": [
    "# ACTIVITY 06\n",
    "\n",
    "Represent a graph with adjacency list using dictionaries. The keys of the dictionary represent \n",
    "nodes; the values have a list of neighbors. Apply Breadth First Search on following graph \n",
    "considering the initial state is A and final state is K. Also evaluate it manually.\n"
   ]
  },
  {
   "cell_type": "code",
   "execution_count": 4,
   "id": "06ef56bd",
   "metadata": {},
   "outputs": [
    {
     "name": "stdout",
     "output_type": "stream",
     "text": [
      "Open List\t\t\t\tClose List\n",
      "['A'] \t\t\t\t\t []\n",
      "['F', 'C', 'B'] \t\t\t ['A']\n",
      "['C', 'B', 'D'] \t\t\t ['A', 'F']\n",
      "['B', 'D', 'E', 'G'] \t\t\t ['A', 'F', 'C']\n",
      "['D', 'E', 'G'] \t\t\t ['A', 'F', 'C', 'B']\n",
      "['E', 'G', 'J'] \t\t\t ['A', 'F', 'C', 'B', 'D']\n",
      "['G', 'J', 'K'] \t\t\t ['A', 'F', 'C', 'B', 'D', 'E']\n",
      "['J', 'K'] \t\t\t ['A', 'F', 'C', 'B', 'D', 'E', 'G']\n",
      "['K'] \t\t\t ['A', 'F', 'C', 'B', 'D', 'E', 'G', 'J']\n",
      "[] \t\t\t\t\t ['A', 'F', 'C', 'B', 'D', 'E', 'G', 'J', 'K']\n"
     ]
    }
   ],
   "source": [
    "import queue\n",
    "\n",
    "graph = {\n",
    "    'A': ['F', 'C', 'B'],'B': ['A', 'C', 'G'], 'C': ['D', 'E', 'G'],\n",
    "    'F': ['A', 'C', 'D'],'D': ['J', 'E', 'C', 'F'],'E': ['D', 'J', 'K', 'G'],\n",
    "    'G': ['C', 'E', 'K'],'J': ['D', 'E', 'K'],'K': ['J', 'E', 'G'],\n",
    "}\n",
    "\n",
    "openList = queue.Queue()\n",
    "initial = 'A'\n",
    "final = 'K'\n",
    "openList.put(initial)\n",
    "closeList = []\n",
    "\n",
    "print(\"Open List\\t\\t\\t\\tClose List\")\n",
    "print(list(openList.queue), \"\\t\\t\\t\\t\\t\", closeList)\n",
    "while not openList.empty():\n",
    "    s = openList.get()\n",
    "    closeList.append(s)\n",
    "    if s == final:\n",
    "        print(list(openList.queue), \"\\t\\t\\t\\t\\t\", closeList)\n",
    "        break\n",
    "        \n",
    "    m = graph[s]\n",
    "    for n in m:\n",
    "        if closeList.count(n) <= 0 and list(openList.queue).count(n) <= 0:\n",
    "            openList.put(n)\n",
    "    print(list(openList.queue), \"\\t\\t\\t\", closeList)"
   ]
  },
  {
   "cell_type": "markdown",
   "id": "67c9f9fa",
   "metadata": {},
   "source": [
    "# ACTIVITY 07\n",
    "\n",
    "Represent a graph with adjacency list using dictionaries. The keys of the dictionary represent \n",
    "nodes; the values have a list of neighbors. Apply Depth First Search on Activity-6 graph \n",
    "considering the initial state is A and final state is K. Also evaluate it manually\n"
   ]
  },
  {
   "cell_type": "code",
   "execution_count": 3,
   "id": "27123b90",
   "metadata": {},
   "outputs": [
    {
     "name": "stdout",
     "output_type": "stream",
     "text": [
      "OPEN LIST \t\t CLOSE LIST\n",
      "['F', 'C', 'B']\t\t['A']\n",
      "['D', 'C', 'B']\t\t['A', 'F']\n",
      "['J', 'E', 'C', 'B']\t\t['A', 'F', 'D']\n",
      "['K', 'E', 'C', 'B']\t\t['A', 'F', 'D', 'J']\n",
      "['E', 'C', 'B']\t\t['A', 'F', 'D', 'J', 'K']\n"
     ]
    }
   ],
   "source": [
    "import queue\n",
    "\n",
    "graph = {\n",
    "    'A': ['F', 'C', 'B'],'B': ['A', 'C', 'G'], 'C': ['D', 'E', 'G'],\n",
    "    'F': ['A', 'C', 'D'],'D': ['J', 'E', 'C', 'F'],'E': ['D', 'J', 'K', 'G'],\n",
    "    'G': ['C', 'E', 'K'],'J': ['D', 'E', 'K'],'K': ['J', 'E', 'G'],\n",
    "}\n",
    "stack=queue.LifoQueue()\n",
    "initial='A'\n",
    "goal=\"K\"\n",
    "stack.put(initial)\n",
    "closedList=[]\n",
    "openList=[goal]\n",
    "print(\"OPEN LIST \\t\\t CLOSE LIST\")\n",
    "while not stack.empty():\n",
    "    node=stack.get()\n",
    "    openList.pop(0)\n",
    "    if node==goal:\n",
    "        print(openList,end=\"\\t\\t\")\n",
    "        closedList.append(node)\n",
    "        print(closedList)\n",
    "        break\n",
    "    items=graph[node]\n",
    "    items.reverse()\n",
    "    for item in items:\n",
    "        if openList.count(item) <=0 and closedList.count(item) <=0:\n",
    "            stack.put(item)\n",
    "            openList.insert(0,item)\n",
    "    closedList.append(node)\n",
    "    print(openList, end=\"\\t\\t\")\n",
    "    print(closedList)"
   ]
  }
 ],
 "metadata": {
  "kernelspec": {
   "display_name": "Python 3 (ipykernel)",
   "language": "python",
   "name": "python3"
  },
  "language_info": {
   "codemirror_mode": {
    "name": "ipython",
    "version": 3
   },
   "file_extension": ".py",
   "mimetype": "text/x-python",
   "name": "python",
   "nbconvert_exporter": "python",
   "pygments_lexer": "ipython3",
   "version": "3.10.9"
  }
 },
 "nbformat": 4,
 "nbformat_minor": 5
}
