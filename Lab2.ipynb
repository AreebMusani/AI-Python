{
 "cells": [
  {
   "cell_type": "markdown",
   "id": "072a42eb",
   "metadata": {},
   "source": [
    "# Task Number 1\n",
    "\n",
    "Write a Python script that uses a dictionary to store information about a person\n",
    "you know. Store their first name, last name, age, and the city in which they live. You\n",
    "should have keys such as first_name, last_name, age, and city. Print each piece of\n",
    "information stored in your dictionary"
   ]
  },
  {
   "cell_type": "code",
   "execution_count": 1,
   "id": "880eec60",
   "metadata": {},
   "outputs": [
    {
     "name": "stdout",
     "output_type": "stream",
     "text": [
      "Enter number of people: 2\n",
      "Please enter your first name: Areeb\n",
      "Please enter your last name: Musani\n",
      "Please enter your age: 21\n",
      "Please enter your city: karachi\n",
      "Please enter your first name: Ahmed\n",
      "Please enter your last name: Fawad\n",
      "Please enter your age: 14\n",
      "Please enter your city: Karachi\n"
     ]
    }
   ],
   "source": [
    "\n",
    "person = []\n",
    "numberOfPeople = int(input(\"Enter number of people: \"))\n",
    "for i in range (numberOfPeople):\n",
    "    people = {}\n",
    "    people[\"first_name\"] = input (\"Please enter your first name: \")\n",
    "    people[\"last_name\"] = input (\"Please enter your last name: \")\n",
    "    people[\"age\"] = input (\"Please enter your age: \")\n",
    "    people[\"city\"] = input (\"Please enter your city: \") \n",
    "    person.append(people)"
   ]
  },
  {
   "cell_type": "code",
   "execution_count": 2,
   "id": "ae4e2d66",
   "metadata": {},
   "outputs": [
    {
     "name": "stdout",
     "output_type": "stream",
     "text": [
      "First Name:  Areeb\n",
      "Last Name:  Musani\n",
      "Age:  21\n",
      "City:  karachi\n",
      "\n",
      "\n",
      "First Name:  Ahmed\n",
      "Last Name:  Fawad\n",
      "Age:  14\n",
      "City:  Karachi\n",
      "\n",
      "\n"
     ]
    }
   ],
   "source": [
    "for people in person: \n",
    "    print(\"First Name: \", people[\"first_name\"])\n",
    "    print(\"Last Name: \", people[\"last_name\"])\n",
    "    print(\"Age: \", people[\"age\"])\n",
    "    print(\"City: \", people[\"city\"])\n",
    "    print ('\\n')"
   ]
  },
  {
   "cell_type": "markdown",
   "id": "4fd795e6",
   "metadata": {},
   "source": [
    "# Task Number 2\n",
    "\n",
    "Write a function that accepts a dictionary as an argument. If the dictionary contains\n",
    "replicate values, return an empty dictionary, otherwise, return a new dictionary\n",
    "whose values are now the keys and whose keys are the values."
   ]
  },
  {
   "cell_type": "code",
   "execution_count": 24,
   "id": "14564467",
   "metadata": {},
   "outputs": [
    {
     "name": "stdout",
     "output_type": "stream",
     "text": [
      "{'a': 10, 'b': 20, 'c': 20}\n",
      "{}\n",
      "{'a': 10, 'b': 20, 'c': 30}\n",
      "{10: 'a', 20: 'b', 30: 'c'}\n"
     ]
    }
   ],
   "source": [
    "def swap_key_value(dictionary):\n",
    "    L = list(dictionary.values())\n",
    "    for value in L:\n",
    "        if L.count(value) > 1:\n",
    "            return dict()\n",
    "\n",
    "    new_dict = {}\n",
    "    for k, v in dictionary.items():\n",
    "        new_dict[v] = k\n",
    "    return new_dict\n",
    "\n",
    "\n",
    "d = {'a':10,'b':20,'c':20}\n",
    "print(d)\n",
    "n = swap_key_value(d)\n",
    "print(n)\n",
    "\n",
    "d = {'a':10,'b':20,'c':30}\n",
    "print(d)\n",
    "n = swap_key_value(d)\n",
    "print(n)"
   ]
  },
  {
   "cell_type": "markdown",
   "id": "d6c3037e",
   "metadata": {},
   "source": [
    "# Task Number 3\n",
    "\n",
    "A buffet-style restaurant offers only five basic foods. Think of five simple foods, and\n",
    "store them in a tuple. • Use a for loop to print each food the restaurant offers. • Try\n",
    "to modify one of the items, and make sure that Python rejects the change"
   ]
  },
  {
   "cell_type": "code",
   "execution_count": 9,
   "id": "2e4b9f6b",
   "metadata": {},
   "outputs": [
    {
     "name": "stdout",
     "output_type": "stream",
     "text": [
      "Pizza\n",
      "Burger\n",
      "Wings\n",
      "Fries\n",
      "Salad\n",
      "Broasted Chicken\n"
     ]
    }
   ],
   "source": [
    "foods = (\"Pizza\", \"Burger\", \"Wings\", \"Fries\", \"Salad\", \"Broasted Chicken\")\n",
    "\n",
    "for item in foods: \n",
    "    print (item)"
   ]
  },
  {
   "cell_type": "code",
   "execution_count": 10,
   "id": "991b4c9d",
   "metadata": {},
   "outputs": [
    {
     "ename": "TypeError",
     "evalue": "'tuple' object does not support item assignment",
     "output_type": "error",
     "traceback": [
      "\u001b[1;31m---------------------------------------------------------------------------\u001b[0m",
      "\u001b[1;31mTypeError\u001b[0m                                 Traceback (most recent call last)",
      "\u001b[1;32m~\\AppData\\Local\\Temp\\ipykernel_2532\\3314972752.py\u001b[0m in \u001b[0;36m<module>\u001b[1;34m\u001b[0m\n\u001b[1;32m----> 1\u001b[1;33m \u001b[0mfoods\u001b[0m\u001b[1;33m[\u001b[0m\u001b[1;36m0\u001b[0m\u001b[1;33m]\u001b[0m \u001b[1;33m=\u001b[0m \u001b[1;34m'Biryani'\u001b[0m\u001b[1;33m\u001b[0m\u001b[1;33m\u001b[0m\u001b[0m\n\u001b[0m",
      "\u001b[1;31mTypeError\u001b[0m: 'tuple' object does not support item assignment"
     ]
    }
   ],
   "source": [
    "foods[0] = 'Biryani'"
   ]
  },
  {
   "cell_type": "markdown",
   "id": "fb3062e6",
   "metadata": {},
   "source": [
    "# Task Number 4\n",
    "\n",
    "If you could invite anyone to dinner. Make a list that includes at least three people\n",
    "you’d like to invite to dinner. Then use your list to print a message to each person,\n",
    "inviting them to dinner."
   ]
  },
  {
   "cell_type": "code",
   "execution_count": 3,
   "id": "b37670ef",
   "metadata": {},
   "outputs": [
    {
     "name": "stdout",
     "output_type": "stream",
     "text": [
      "Dear Hamza, \n",
      " You are invited to dinner \n",
      "\n",
      "Dear Shoaib, \n",
      " You are invited to dinner \n",
      "\n",
      "Dear Shayan, \n",
      " You are invited to dinner \n",
      "\n"
     ]
    }
   ],
   "source": [
    "listOfGuest = [\"Hamza\", \"Shoaib\", \"Shayan\"]\n",
    "\n",
    "for item in listOfGuest:\n",
    "    print (f\"Dear {item}, \\n You are invited to dinner \\n\")\n",
    "    "
   ]
  },
  {
   "cell_type": "markdown",
   "id": "9f23acd3",
   "metadata": {},
   "source": [
    "# Task Number 5\n",
    "\n",
    "Changing Guest List: You just heard that one of your guests can’t make the dinner,\n",
    "so you need to send out a new set of invitations. You’ll have to think of someone\n",
    "else to invite. • Modify your list, replacing the name of the guest who can’t make it\n",
    "with the name of the new person you are inviting. • Print a second set of invitation\n",
    "messages, one for each person who is still in your list."
   ]
  },
  {
   "cell_type": "code",
   "execution_count": 4,
   "id": "7a7be942",
   "metadata": {},
   "outputs": [
    {
     "name": "stdout",
     "output_type": "stream",
     "text": [
      "Dear Hamza, \n",
      " You are invited to dinner \n",
      "\n",
      "Dear Huzaifa, \n",
      " You are invited to dinner \n",
      "\n",
      "Dear Shayan, \n",
      " You are invited to dinner \n",
      "\n"
     ]
    }
   ],
   "source": [
    "listOfGuest = [\"Hamza\", \"Shoaib\", \"Shayan\"]\n",
    "\n",
    "listOfGuest[1] = \"Huzaifa\"\n",
    "for item in listOfGuest:\n",
    "    print (f\"Dear {item}, \\n You are invited to dinner \\n\")    "
   ]
  },
  {
   "cell_type": "code",
   "execution_count": 17,
   "id": "96a1ccc2",
   "metadata": {},
   "outputs": [
    {
     "name": "stdout",
     "output_type": "stream",
     "text": [
      "Dear Areeba, \n",
      " You are invited to dinner \n",
      "\n",
      "Dear Fida, \n",
      " You are invited to dinner \n",
      "\n",
      "Dear Wahaj, \n",
      " You are invited to dinner \n",
      "\n",
      "Dear Aashir, \n",
      " You are invited to dinner \n",
      "\n",
      "Dear Arham, \n",
      " You are invited to dinner \n",
      "\n"
     ]
    }
   ],
   "source": [
    "for item in listOfGuest:\n",
    "    print (f\"Dear {item}, \\n You are invited to dinner \\n\")"
   ]
  },
  {
   "cell_type": "markdown",
   "id": "009ca181",
   "metadata": {},
   "source": [
    "# Task Number 6\n",
    "\n",
    "Write a program to read 6 numbers and create a dictionary having keys EVEN and\n",
    "ODD. Dictionary's value should be stored in list. Your dictionary should be like:\n",
    "{'EVEN':[8,10,64], 'ODD':[1,5,9]}"
   ]
  },
  {
   "cell_type": "code",
   "execution_count": 1,
   "id": "433a31cd",
   "metadata": {},
   "outputs": [
    {
     "name": "stdout",
     "output_type": "stream",
     "text": [
      "Enter a number: 3\n",
      "Enter a number: 9\n",
      "Enter a number: 11\n",
      "Enter a number: 4\n",
      "Enter a number: 10\n",
      "Enter a number: 12\n",
      "{'EVEN': [4, 10, 12], 'ODD': [3, 9, 11]}\n"
     ]
    }
   ],
   "source": [
    "# Create an empty dictionary\n",
    "number_dict = {'EVEN': [], 'ODD': []}\n",
    "\n",
    "# Read six numbers from the user and store them in the dictionary\n",
    "for i in range(6):\n",
    "    num = int(input(\"Enter a number: \"))\n",
    "    if num % 2 == 0:\n",
    "        number_dict['EVEN'].append(num)\n",
    "    else:\n",
    "        number_dict['ODD'].append(num)\n",
    "\n",
    "# Print the final dictionary\n",
    "print(number_dict)\n"
   ]
  },
  {
   "cell_type": "markdown",
   "id": "469faca3",
   "metadata": {},
   "source": [
    "# Task Number 7\n",
    "\n",
    "Write a definition of a method count_now(places) to find and display those place\n",
    "names, in which there are more than 5 characters."
   ]
  },
  {
   "cell_type": "code",
   "execution_count": 22,
   "id": "d6251312",
   "metadata": {},
   "outputs": [
    {
     "name": "stdout",
     "output_type": "stream",
     "text": [
      "Karachi\n",
      "Quetta\n",
      "Lahore\n"
     ]
    }
   ],
   "source": [
    "places = [\"Pindi\", \"Karachi\", \"Quetta\", \"Dubai\", \"Paris\", \"Lahore\"]\n",
    "\n",
    "def count_now(places):\n",
    "    for place in places:\n",
    "        if len(place) > 5:\n",
    "            print(place)\n",
    "            \n",
    "count_now(places)\n"
   ]
  },
  {
   "cell_type": "markdown",
   "id": "21c16a28",
   "metadata": {},
   "source": [
    "# Task Number 8\n",
    "\n",
    "Write the following 2 functions: def ComputeOddSum(num): def\n",
    "ComputeEvenSum(num): • The function ComputeOddSum find the sum of all odd\n",
    "numbers less than num. • The function ComputeEvenSum find the sum of all even\n",
    "numbers less than num."
   ]
  },
  {
   "cell_type": "code",
   "execution_count": 10,
   "id": "51aefddd",
   "metadata": {},
   "outputs": [],
   "source": [
    "def TotalOddCalculated (number):\n",
    "    oddNumber = 0\n",
    "    \n",
    "    for i in range(1, number, 2):\n",
    "        oddNumber += i\n",
    "    return oddNumber\n",
    "\n",
    "def TotalEvenCalculated (number):\n",
    "    evenNumber = 0\n",
    "    \n",
    "    for i in range(2, number, 2):\n",
    "        evenNumber += i\n",
    "    return evenNumber"
   ]
  },
  {
   "cell_type": "code",
   "execution_count": 11,
   "id": "ed871dde",
   "metadata": {},
   "outputs": [
    {
     "name": "stdout",
     "output_type": "stream",
     "text": [
      "Please enter the number: 10\n",
      "Sum Of Odd: 25\n",
      "Sum Of Even: 20\n"
     ]
    }
   ],
   "source": [
    "numberInput = int(input(\"Please enter the number: \"))\n",
    "\n",
    "oddNumberValue = TotalOddCalculated(numberInput)\n",
    "evenNumberValue = TotalEvenCalculated(numberInput)\n",
    "\n",
    "print (f\"Sum Of Odd: {oddNumberValue}\")\n",
    "print (f\"Sum Of Even: {evenNumberValue}\")"
   ]
  },
  {
   "cell_type": "markdown",
   "id": "741b7819",
   "metadata": {},
   "source": [
    "# Task Number 9\n",
    "\n",
    "Write a recursive function to get sum of all number from 1 up to give number.\n",
    "Example N = 5 Result must be sum (1+2+3+4+5) =15."
   ]
  },
  {
   "cell_type": "code",
   "execution_count": 16,
   "id": "debd6332",
   "metadata": {},
   "outputs": [],
   "source": [
    "def recSum(val):\n",
    "    if val == 1:\n",
    "        return 1\n",
    "    else: \n",
    "        return val + recSum(val-1)\n",
    "    "
   ]
  },
  {
   "cell_type": "code",
   "execution_count": 17,
   "id": "f343390f",
   "metadata": {},
   "outputs": [
    {
     "name": "stdout",
     "output_type": "stream",
     "text": [
      "Enter number: 10\n",
      "The sum of 1 to 10 is 55\n"
     ]
    }
   ],
   "source": [
    "inp = int(input(\"Enter number: \"))\n",
    "\n",
    "sum = recSum(inp)\n",
    "\n",
    "print (f\"The sum of 1 to {inp} is {sum}\")"
   ]
  }
 ],
 "metadata": {
  "kernelspec": {
   "display_name": "Python 3 (ipykernel)",
   "language": "python",
   "name": "python3"
  },
  "language_info": {
   "codemirror_mode": {
    "name": "ipython",
    "version": 3
   },
   "file_extension": ".py",
   "mimetype": "text/x-python",
   "name": "python",
   "nbconvert_exporter": "python",
   "pygments_lexer": "ipython3",
   "version": "3.9.13"
  }
 },
 "nbformat": 4,
 "nbformat_minor": 5
}
